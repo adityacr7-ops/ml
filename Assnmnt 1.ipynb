{
 "cells": [
  {
   "cell_type": "markdown",
   "metadata": {},
   "source": [
    "ans1 "
   ]
  },
  {
   "cell_type": "code",
   "execution_count": 1,
   "metadata": {
    "scrolled": true
   },
   "outputs": [],
   "source": [
    "x=[]\n",
    "for i in range(2000,3200):\n",
    "    if(i%7==0) and (i%5!=0):\n",
    "        x.append(i)\n",
    "print(x)    "
   ]
  },
  {
   "cell_type": "markdown",
   "metadata": {},
   "source": [
    "ans 2"
   ]
  },
  {
   "cell_type": "code",
   "execution_count": 2,
   "metadata": {
    "scrolled": true
   },
   "outputs": [
    {
     "name": "stdout",
     "output_type": "stream",
     "text": [
      "enter your first name: Aditya\n",
      "enter your last name: Acharya\n",
      "Acharya Aditya\n"
     ]
    }
   ],
   "source": [
    "fname= input('enter your first name: ')\n",
    "lname= input('enter your last name: ')\n",
    "print(lname +\" \"+ fname)"
   ]
  },
  {
   "cell_type": "markdown",
   "metadata": {},
   "source": [
    "ans 3"
   ]
  },
  {
   "cell_type": "code",
   "execution_count": 8,
   "metadata": {},
   "outputs": [
    {
     "name": "stdout",
     "output_type": "stream",
     "text": [
      "enter diameter of the sphere: 12.0\n",
      "Volume of the sphere is:  904.7779199999999\n"
     ]
    }
   ],
   "source": [
    "pi = 3.14159\n",
    "d = float(input('enter diameter of the sphere: '))\n",
    "r = d/2\n",
    "V = 4/3*pi* r**3\n",
    "print('Volume of the sphere is: ',V)"
   ]
  },
  {
   "cell_type": "code",
   "execution_count": null,
   "metadata": {},
   "outputs": [],
   "source": []
  }
 ],
 "metadata": {
  "kernelspec": {
   "display_name": "Python 3",
   "language": "python",
   "name": "python3"
  },
  "language_info": {
   "codemirror_mode": {
    "name": "ipython",
    "version": 3
   },
   "file_extension": ".py",
   "mimetype": "text/x-python",
   "name": "python",
   "nbconvert_exporter": "python",
   "pygments_lexer": "ipython3",
   "version": "3.6.5"
  }
 },
 "nbformat": 4,
 "nbformat_minor": 2
}
